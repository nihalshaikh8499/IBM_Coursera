{
 "cells": [
  {
   "cell_type": "markdown",
   "id": "084ef2d2-ed10-47cb-95f0-5cff85680d3a",
   "metadata": {},
   "source": [
    "# Data Science Tools and Ecosystem"
   ]
  },
  {
   "cell_type": "markdown",
   "id": "67e6b3c4-672e-4e6e-b390-9dc48371feb2",
   "metadata": {},
   "source": [
    "## Introduction\n",
    "In this notebook, we will explore some of the key concepts, tools, and languages used in Data Science. \n",
    "We will also practice basic arithmetic operations using Python."
   ]
  },
  {
   "cell_type": "markdown",
   "id": "951179a1-421a-422e-a7ea-8100d39fd961",
   "metadata": {},
   "source": [
    "## Data Science Languages\n",
    "Some of the popular languages used by Data Scientists include:\n",
    "- Python\n",
    "- R\n",
    "- SQL\n",
    "- Julia"
   ]
  },
  {
   "cell_type": "markdown",
   "id": "87dcf2a5-b29a-4e2d-aa8d-ebfe2617894d",
   "metadata": {},
   "source": [
    "## Data Science Libraries\n",
    "Some of the commonly used libraries in Data Science are:\n",
    "- Pandas\n",
    "- NumPy\n",
    "- Matplotlib\n",
    "- Scikit-learn\n",
    "- TensorFlow\n",
    "- PyTorch"
   ]
  },
  {
   "cell_type": "markdown",
   "id": "b6e07f9c-13b7-4e39-a013-5678443d59b9",
   "metadata": {},
   "source": [
    "## Data Science Tools\n",
    "| Tool         | Category           |\n",
    "|--------------|--------------------|\n",
    "| Jupyter      | Notebook Tool      |\n",
    "| RStudio      | IDE                |\n",
    "| Apache Spark | Big Data Framework |\n",
    "| TensorFlow   | Deep Learning      |"
   ]
  },
  {
   "cell_type": "markdown",
   "id": "ae2469a6-7195-4a21-a3bf-976ac786c33f",
   "metadata": {},
   "source": [
    "## Arithmetic Expression Examples\n",
    "Below are some examples of simple arithmetic operations such as addition and multiplication."
   ]
  },
  {
   "cell_type": "code",
   "execution_count": 2,
   "id": "4ea1d84f-8ce8-4935-99ec-0fc927546da0",
   "metadata": {},
   "outputs": [
    {
     "data": {
      "text/plain": [
       "17"
      ]
     },
     "execution_count": 2,
     "metadata": {},
     "output_type": "execute_result"
    }
   ],
   "source": [
    "# This code multiplies and adds numbers\n",
    "(3 * 4) + 5"
   ]
  },
  {
   "cell_type": "code",
   "execution_count": 3,
   "id": "98004544-86af-493a-b7d4-5810befed10d",
   "metadata": {},
   "outputs": [
    {
     "data": {
      "text/plain": [
       "3.3333333333333335"
      ]
     },
     "execution_count": 3,
     "metadata": {},
     "output_type": "execute_result"
    }
   ],
   "source": [
    "# This code converts minutes to hours\n",
    "minutes = 200\n",
    "hours = minutes / 60\n",
    "hours"
   ]
  },
  {
   "cell_type": "markdown",
   "id": "f9d0f0c3-1a53-437a-bcbb-266115aecf3e",
   "metadata": {},
   "source": [
    "## Objectives\n",
    "The main objectives of this notebook are:\n",
    "- List popular languages for Data Science\n",
    "- List commonly used libraries\n",
    "- Create a table of tools\n",
    "- Perform basic arithmetic operations\n",
    "- Convert minutes to hours"
   ]
  },
  {
   "cell_type": "code",
   "execution_count": null,
   "id": "7da61937-dd36-4640-b975-82dfc1f42d15",
   "metadata": {},
   "outputs": [],
   "source": [
    "## Author\n",
    "Nihal Shaikh"
   ]
  }
 ],
 "metadata": {
  "kernelspec": {
   "display_name": "Python 3 (ipykernel)",
   "language": "python",
   "name": "python3"
  },
  "language_info": {
   "codemirror_mode": {
    "name": "ipython",
    "version": 3
   },
   "file_extension": ".py",
   "mimetype": "text/x-python",
   "name": "python",
   "nbconvert_exporter": "python",
   "pygments_lexer": "ipython3",
   "version": "3.13.5"
  }
 },
 "nbformat": 4,
 "nbformat_minor": 5
}
