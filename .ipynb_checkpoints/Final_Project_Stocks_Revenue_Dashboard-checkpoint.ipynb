{
  "cells": [
    {
      "cell_type": "markdown",
      "metadata": {},
      "source": [
        "# Final Project: Stock Price vs Revenue Dashboard (Tesla & GameStop)\n",
        "\n",
        "**Name:** _Your Name Here_\n",
        "\n",
        "**Date:** 2025-09-01\n",
        "\n",
        "---\n",
        "This notebook completes the 7 questions specified in the assignment. It uses **yfinance** to pull stock prices and **web scraping** to collect quarterly revenue from Macrotrends. Finally, it builds dashboards comparing stock price to revenue for **Tesla (TSLA)** and **GameStop (GME)**.\n",
        "\n",
        "> \u26a0\ufe0f **Before you run this notebook**: Ensure you have completed the previous yfinance and web scraping labs and that your environment has internet access.\n",
        "\n",
        "## What you'll submit\n",
        "- **Screenshots** clearly showing each question header, the code you executed, and the resulting output/plots.\n",
        "- **Shared copy** of this notebook (export to HTML or share via repo) for Question 7.\n",
        "\n",
        "## Grading (12 points total)\n",
        "- Q1 TSLA stock (2), Q2 TSLA revenue (1), Q3 GME stock (2), Q4 GME revenue (1)\n",
        "- Q5 TSLA dashboard (2), Q6 GME dashboard (2), Q7 Share notebook (2)\n"
      ]
    },
    {
      "cell_type": "markdown",
      "metadata": {},
      "source": [
        "## Setup\n",
        "Install or import required libraries. If you're in a fresh environment, uncomment the `pip install` lines."
      ]
    },
    {
      "cell_type": "code",
      "metadata": {
        "tags": [
          "hide-output"
        ]
      },
      "execution_count": null,
      "outputs": [],
      "source": [
        "# !pip install yfinance requests bs4 plotly pandas numpy\n",
        "import pandas as pd\n",
        "import numpy as np\n",
        "import yfinance as yf\n",
        "import requests\n",
        "from bs4 import BeautifulSoup\n",
        "import plotly.graph_objects as go\n",
        "from plotly.subplots import make_subplots\n",
        "\n",
        "pd.set_option('display.max_rows', 10)\n",
        "pd.set_option('display.width', 120)"
      ]
    },
    {
      "cell_type": "markdown",
      "metadata": {},
      "source": [
        "---\n",
        "## Helper: Clean Revenue Table from Macrotrends\n",
        "Macrotrends pages contain multiple tables; we specifically want the **Quarterly Revenue** table.\n"
      ]
    },
    {
      "cell_type": "code",
      "metadata": {},
      "execution_count": null,
      "outputs": [],
      "source": [
        "def scrape_quarterly_revenue(macrotrends_url: str) -> pd.DataFrame:\n",
        "    \"\"\"Scrape Quarterly Revenue table (Date, Revenue) from a Macrotrends revenue page.\n",
        "    Example URLs:\n",
        "      Tesla:    https://www.macrotrends.net/stocks/charts/TSLA/tesla/revenue\n",
        "      GameStop: https://www.macrotrends.net/stocks/charts/GME/gamestop/revenue\n",
        "    \"\"\"\n",
        "    headers = {\"User-Agent\": \"Mozilla/5.0\"}\n",
        "    html = requests.get(macrotrends_url, headers=headers).text\n",
        "    soup = BeautifulSoup(html, \"html.parser\")\n",
        "    tables = soup.find_all(\"table\")\n",
        "\n",
        "    target_table = None\n",
        "    for tbl in tables:\n",
        "        caption = tbl.find_previous_sibling('h2')\n",
        "        if caption and 'Quarterly Revenue' in caption.get_text(strip=True):\n",
        "            target_table = tbl\n",
        "            break\n",
        "\n",
        "    if target_table is None:\n",
        "        # Fallback: pick the first table that has 'Revenue' in header\n",
        "        for tbl in tables:\n",
        "            th = tbl.find('th')\n",
        "            if th and 'Revenue' in th.get_text():\n",
        "                target_table = tbl\n",
        "                break\n",
        "\n",
        "    if target_table is None:\n",
        "        raise ValueError(\"Quarterly Revenue table not found on the page. Structure may have changed.\")\n",
        "\n",
        "    df = pd.read_html(str(target_table))[0]\n",
        "    # Expect columns like ['Date', 'Revenue']\n",
        "    df.columns = [c.strip() for c in df.columns]\n",
        "    # Keep only 'Date' and 'Revenue' if present\n",
        "    keep_cols = [c for c in df.columns if c.lower().startswith('date') or c.lower().startswith('revenue')]\n",
        "    df = df[keep_cols]\n",
        "    # Standardize column names\n",
        "    rename_map = {c: 'Date' if 'date' in c.lower() else ('Revenue' if 'revenue' in c.lower() else c) for c in df.columns}\n",
        "    df = df.rename(columns=rename_map)\n",
        "    # Clean revenue string: remove $ and commas; coerce to numeric\n",
        "    df['Revenue'] = (df['Revenue']\n",
        "                     .astype(str)\n",
        "                     .str.replace('$', '', regex=False)\n",
        "                     .str.replace(',', '', regex=False)\n",
        "                     .str.replace(' ', '', regex=False)\n",
        "                    )\n",
        "    df['Revenue'] = pd.to_numeric(df['Revenue'], errors='coerce')\n",
        "    df['Date'] = pd.to_datetime(df['Date'], errors='coerce')\n",
        "    df = df.dropna(subset=['Date', 'Revenue']).sort_values('Date').reset_index(drop=True)\n",
        "    return df"
      ]
    },
    {
      "cell_type": "markdown",
      "metadata": {},
      "source": [
        "---\n",
        "## Helper: Stock Downloader via yfinance\n"
      ]
    },
    {
      "cell_type": "code",
      "metadata": {},
      "execution_count": null,
      "outputs": [],
      "source": [
        "def download_stock_history(ticker: str, start: str = '2010-01-01') -> pd.DataFrame:\n",
        "    \"\"\"Download daily history with yfinance and keep Date, Close columns\"\"\"\n",
        "    data = yf.download(ticker, start=start, progress=False)\n",
        "    data = data[['Close']].dropna().reset_index()\n",
        "    data.columns = ['Date', 'Close']\n",
        "    return data"
      ]
    },
    {
      "cell_type": "markdown",
      "metadata": {},
      "source": [
        "## Helper: Dashboard (Price vs Revenue)\n",
        "Creates a 2-row interactive Plotly figure: stock price on top, quarterly revenue on bottom.\n"
      ]
    },
    {
      "cell_type": "code",
      "metadata": {},
      "execution_count": null,
      "outputs": [],
      "source": [
        "def price_vs_revenue_dashboard(price_df: pd.DataFrame, revenue_df: pd.DataFrame, title: str):\n",
        "    fig = make_subplots(rows=2, cols=1, shared_xaxes=True, vertical_spacing=0.1,\n",
        "                        subplot_titles=(f\"{title} - Closing Price\", f\"{title} - Quarterly Revenue\"))\n",
        "    # Price trace\n",
        "    fig.add_trace(\n",
        "        go.Scatter(x=price_df['Date'], y=price_df['Close'], mode='lines', name='Close'),\n",
        "        row=1, col=1\n",
        "    )\n",
        "    # Revenue trace\n",
        "    fig.add_trace(\n",
        "        go.Bar(x=revenue_df['Date'], y=revenue_df['Revenue'], name='Revenue'),\n",
        "        row=2, col=1\n",
        "    )\n",
        "    fig.update_layout(height=700, width=1000, title_text=title, showlegend=True)\n",
        "    fig.update_xaxes(title_text='Date', row=2, col=1)\n",
        "    fig.update_yaxes(title_text='Price (USD)', row=1, col=1)\n",
        "    fig.update_yaxes(title_text='Revenue (USD)', row=2, col=1)\n",
        "    return fig"
      ]
    },
    {
      "cell_type": "markdown",
      "metadata": {},
      "source": [
        "---\n",
        "## Question 1 \u2014 Extracting Tesla Stock Data Using yfinance (2 pts)\n"
      ]
    },
    {
      "cell_type": "code",
      "metadata": {
        "scrolled": false
      },
      "execution_count": null,
      "outputs": [],
      "source": [
        "tsla_price = download_stock_history('TSLA', start='2010-01-01')\n",
        "print(tsla_price.head())\n",
        "print(tsla_price.tail())\n",
        "# Optional: save for reference\n",
        "tsla_price.to_csv('tsla_price.csv', index=False)"
      ]
    },
    {
      "cell_type": "markdown",
      "metadata": {},
      "source": [
        "## Question 2 \u2014 Extracting Tesla Revenue Data Using Web Scraping (1 pt)\n",
        "We use Macrotrends' revenue page for Tesla."
      ]
    },
    {
      "cell_type": "code",
      "metadata": {},
      "execution_count": null,
      "outputs": [],
      "source": [
        "tsla_rev_url = \"https://www.macrotrends.net/stocks/charts/TSLA/tesla/revenue\"\n",
        "tsla_revenue = scrape_quarterly_revenue(tsla_rev_url)\n",
        "print(tsla_revenue.head())\n",
        "print(tsla_revenue.tail())\n",
        "tsla_revenue.to_csv('tsla_revenue.csv', index=False)"
      ]
    },
    {
      "cell_type": "markdown",
      "metadata": {},
      "source": [
        "---\n",
        "## Question 3 \u2014 Extracting GameStop Stock Data Using yfinance (2 pts)\n"
      ]
    },
    {
      "cell_type": "code",
      "metadata": {},
      "execution_count": null,
      "outputs": [],
      "source": [
        "gme_price = download_stock_history('GME', start='2010-01-01')\n",
        "print(gme_price.head())\n",
        "print(gme_price.tail())\n",
        "gme_price.to_csv('gme_price.csv', index=False)"
      ]
    },
    {
      "cell_type": "markdown",
      "metadata": {},
      "source": [
        "## Question 4 \u2014 Extracting GameStop Revenue Data Using Web Scraping (1 pt)\n"
      ]
    },
    {
      "cell_type": "code",
      "metadata": {},
      "execution_count": null,
      "outputs": [],
      "source": [
        "gme_rev_url = \"https://www.macrotrends.net/stocks/charts/GME/gamestop/revenue\"\n",
        "gme_revenue = scrape_quarterly_revenue(gme_rev_url)\n",
        "print(gme_revenue.head())\n",
        "print(gme_revenue.tail())\n",
        "gme_revenue.to_csv('gme_revenue.csv', index=False)"
      ]
    },
    {
      "cell_type": "markdown",
      "metadata": {},
      "source": [
        "---\n",
        "## Question 5 \u2014 Tesla Stock and Revenue Dashboard (2 pts)\n",
        "Creates an interactive two-panel dashboard."
      ]
    },
    {
      "cell_type": "code",
      "metadata": {
        "scrolled": false
      },
      "execution_count": null,
      "outputs": [],
      "source": [
        "fig_tsla = price_vs_revenue_dashboard(tsla_price, tsla_revenue, title='Tesla (TSLA) \u2014 Price vs Quarterly Revenue')\n",
        "fig_tsla.show()\n",
        "# Save a static image if you have kaleido installed:\n",
        "# !pip install -U kaleido\n",
        "# fig_tsla.write_image('tesla_dashboard.png')"
      ]
    },
    {
      "cell_type": "markdown",
      "metadata": {},
      "source": [
        "## Question 6 \u2014 GameStop Stock and Revenue Dashboard (2 pts)\n"
      ]
    },
    {
      "cell_type": "code",
      "metadata": {
        "scrolled": false
      },
      "execution_count": null,
      "outputs": [],
      "source": [
        "fig_gme = price_vs_revenue_dashboard(gme_price, gme_revenue, title='GameStop (GME) \u2014 Price vs Quarterly Revenue')\n",
        "fig_gme.show()\n",
        "# Save a static image if you have kaleido installed:\n",
        "# fig_gme.write_image('gamestop_dashboard.png')"
      ]
    },
    {
      "cell_type": "markdown",
      "metadata": {},
      "source": [
        "---\n",
        "## Question 7 \u2014 Sharing Your Assignment Notebook (2 pts)\n",
        "Export this notebook to **HTML** and share the HTML or upload to a repository.\n",
        "\n",
        "**How to export in Jupyter:**\n",
        "- `File > Save and Checkpoint`\n",
        "- `File > Download as > HTML (.html)`\n",
        "\n",
        "**What to upload for grading:**\n",
        "- Screenshots showing the code **and** outputs for Q1\u2013Q6\n",
        "- The shared notebook file (HTML or notebook link)\n"
      ]
    },
    {
      "cell_type": "markdown",
      "metadata": {},
      "source": [
        "---\n",
        "## (Optional) Sanity Checks & Alignment of Frequencies\n",
        "Price is **daily** while revenue is **quarterly**. For plotting they are shown on the same x-axis but different frequencies. If you need to align them explicitly, this helper aggregates price to quarter-end.\n"
      ]
    },
    {
      "cell_type": "code",
      "metadata": {},
      "execution_count": null,
      "outputs": [],
      "source": [
        "def to_quarter_end(df_price: pd.DataFrame) -> pd.DataFrame:\n",
        "    q = (df_price\n",
        "         .set_index('Date')['Close']\n",
        "         .resample('Q')\n",
        "         .last()\n",
        "         .reset_index())\n",
        "    q.columns = ['Date', 'Close']\n",
        "    return q\n",
        "\n",
        "# Example usage (optional):\n",
        "# tsla_price_q = to_quarter_end(tsla_price)\n",
        "# gme_price_q  = to_quarter_end(gme_price)"
      ]
    },
    {
      "cell_type": "markdown",
      "metadata": {},
      "source": [
        "---\n",
        "## (Optional) Save Clean Datasets\n",
        "This saves tidy CSVs you can reuse or turn in alongside screenshots.\n"
      ]
    },
    {
      "cell_type": "code",
      "metadata": {},
      "execution_count": null,
      "outputs": [],
      "source": [
        "# Already saved above; you can re-run anytime:\n",
        "# tsla_price.to_csv('tsla_price.csv', index=False)\n",
        "# tsla_revenue.to_csv('tsla_revenue.csv', index=False)\n",
        "# gme_price.to_csv('gme_price.csv', index=False)\n",
        "# gme_revenue.to_csv('gme_revenue.csv', index=False)"
      ]
    },
    {
      "cell_type": "markdown",
      "metadata": {},
      "source": [
        "---\n",
        "## (Optional) Peer Review Checklist (for grading a peer)\n",
        "- [ ] **Q1:** yfinance used for TSLA; dataframe printed; looks correct\n",
        "- [ ] **Q2:** Web scraping used for TSLA revenue; columns cleaned to numeric; dates parsed\n",
        "- [ ] **Q3:** yfinance used for GME; dataframe printed; looks correct\n",
        "- [ ] **Q4:** Web scraping used for GME revenue; columns cleaned to numeric; dates parsed\n",
        "- [ ] **Q5:** Dashboard shows TSLA price (line) and revenue (bar) with appropriate labels\n",
        "- [ ] **Q6:** Dashboard shows GME price (line) and revenue (bar) with appropriate labels\n",
        "- [ ] **Q7:** Notebook shared (HTML or link); screenshots clearly show code **and** outputs\n",
        "- [ ] Code quality: clear functions, comments, no hard-coded fragile selectors\n",
        "- [ ] Data quality: no obvious NaNs in key columns; sorted by Date\n",
        "- [ ] Visual quality: axes labeled, titles present\n"
      ]
    }
  ],
  "metadata": {
    "kernelspec": {
      "display_name": "Python 3",
      "language": "python",
      "name": "python3"
    },
    "language_info": {
      "name": "python",
      "version": "3.x"
    }
  },
  "nbformat": 4,
  "nbformat_minor": 5
}